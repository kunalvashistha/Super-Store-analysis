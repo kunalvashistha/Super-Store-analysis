{
 "cells": [
  {
   "cell_type": "code",
   "execution_count": 1,
   "id": "8e476aec",
   "metadata": {},
   "outputs": [],
   "source": [
    "import pandas as pd\n",
    "import numpy as np\n",
    "import matplotlib.pyplot as plt\n",
    "%matplotlib inline\n"
   ]
  },
  {
   "cell_type": "code",
   "execution_count": 4,
   "id": "b8eeb179",
   "metadata": {},
   "outputs": [
    {
     "name": "stderr",
     "output_type": "stream",
     "text": [
      "C:\\Users\\kunal vashistha\\AppData\\Local\\Temp\\ipykernel_5964\\2823510484.py:1: UserWarning: Parsing dates in DD/MM/YYYY format when dayfirst=False (the default) was specified. This may lead to inconsistently parsed dates! Specify a format to ensure consistent parsing.\n",
      "  df=pd.read_csv(\"C:/Users/kunal vashistha/Desktop/Super.csv\",parse_dates=[\"Order_Date\",\"Ship_Date\"])\n",
      "C:\\Users\\kunal vashistha\\AppData\\Local\\Temp\\ipykernel_5964\\2823510484.py:1: UserWarning: Parsing dates in DD/MM/YYYY format when dayfirst=False (the default) was specified. This may lead to inconsistently parsed dates! Specify a format to ensure consistent parsing.\n",
      "  df=pd.read_csv(\"C:/Users/kunal vashistha/Desktop/Super.csv\",parse_dates=[\"Order_Date\",\"Ship_Date\"])\n"
     ]
    },
    {
     "data": {
      "text/html": [
       "<div>\n",
       "<style scoped>\n",
       "    .dataframe tbody tr th:only-of-type {\n",
       "        vertical-align: middle;\n",
       "    }\n",
       "\n",
       "    .dataframe tbody tr th {\n",
       "        vertical-align: top;\n",
       "    }\n",
       "\n",
       "    .dataframe thead th {\n",
       "        text-align: right;\n",
       "    }\n",
       "</style>\n",
       "<table border=\"1\" class=\"dataframe\">\n",
       "  <thead>\n",
       "    <tr style=\"text-align: right;\">\n",
       "      <th></th>\n",
       "      <th>Row_ID</th>\n",
       "      <th>Order_Priority</th>\n",
       "      <th>Discount</th>\n",
       "      <th>Unit_Price</th>\n",
       "      <th>Shipping_Cost</th>\n",
       "      <th>Customer_ID</th>\n",
       "      <th>Customer_Name</th>\n",
       "      <th>Ship_Mode</th>\n",
       "      <th>Customer_Segment</th>\n",
       "      <th>Product_Category</th>\n",
       "      <th>...</th>\n",
       "      <th>Region</th>\n",
       "      <th>Province</th>\n",
       "      <th>City</th>\n",
       "      <th>Postal_Code</th>\n",
       "      <th>Order_Date</th>\n",
       "      <th>Ship_Date</th>\n",
       "      <th>Profit</th>\n",
       "      <th>Quantity</th>\n",
       "      <th>Sales</th>\n",
       "      <th>Order_ID</th>\n",
       "    </tr>\n",
       "  </thead>\n",
       "  <tbody>\n",
       "    <tr>\n",
       "      <th>0</th>\n",
       "      <td>20847</td>\n",
       "      <td>High</td>\n",
       "      <td>0.01</td>\n",
       "      <td>2.84</td>\n",
       "      <td>0.93</td>\n",
       "      <td>3</td>\n",
       "      <td>Bonnie Potter</td>\n",
       "      <td>Express Air</td>\n",
       "      <td>Corporate</td>\n",
       "      <td>Office Supplies</td>\n",
       "      <td>...</td>\n",
       "      <td>West</td>\n",
       "      <td>Washington</td>\n",
       "      <td>Anacortes</td>\n",
       "      <td>98221</td>\n",
       "      <td>2015-07-01</td>\n",
       "      <td>2015-08-01</td>\n",
       "      <td>4.5600</td>\n",
       "      <td>4</td>\n",
       "      <td>13.01</td>\n",
       "      <td>88522</td>\n",
       "    </tr>\n",
       "    <tr>\n",
       "      <th>1</th>\n",
       "      <td>20228</td>\n",
       "      <td>Not Specified</td>\n",
       "      <td>0.02</td>\n",
       "      <td>500.98</td>\n",
       "      <td>26.00</td>\n",
       "      <td>5</td>\n",
       "      <td>Ronnie Proctor</td>\n",
       "      <td>Delivery Truck</td>\n",
       "      <td>Home Office</td>\n",
       "      <td>Furniture</td>\n",
       "      <td>...</td>\n",
       "      <td>West</td>\n",
       "      <td>California</td>\n",
       "      <td>San Gabriel</td>\n",
       "      <td>91776</td>\n",
       "      <td>2015-06-13</td>\n",
       "      <td>2015-06-15</td>\n",
       "      <td>4390.3665</td>\n",
       "      <td>12</td>\n",
       "      <td>6362.85</td>\n",
       "      <td>90193</td>\n",
       "    </tr>\n",
       "    <tr>\n",
       "      <th>2</th>\n",
       "      <td>21776</td>\n",
       "      <td>Critical</td>\n",
       "      <td>0.06</td>\n",
       "      <td>9.48</td>\n",
       "      <td>7.29</td>\n",
       "      <td>11</td>\n",
       "      <td>Marcus Dunlap</td>\n",
       "      <td>Regular Air</td>\n",
       "      <td>Home Office</td>\n",
       "      <td>Furniture</td>\n",
       "      <td>...</td>\n",
       "      <td>East</td>\n",
       "      <td>New Jersey</td>\n",
       "      <td>Roselle</td>\n",
       "      <td>7203</td>\n",
       "      <td>2015-02-15</td>\n",
       "      <td>2015-02-17</td>\n",
       "      <td>-53.8096</td>\n",
       "      <td>22</td>\n",
       "      <td>211.15</td>\n",
       "      <td>90192</td>\n",
       "    </tr>\n",
       "    <tr>\n",
       "      <th>3</th>\n",
       "      <td>24844</td>\n",
       "      <td>Medium</td>\n",
       "      <td>0.09</td>\n",
       "      <td>78.69</td>\n",
       "      <td>19.99</td>\n",
       "      <td>14</td>\n",
       "      <td>Gwendolyn F Tyson</td>\n",
       "      <td>Regular Air</td>\n",
       "      <td>Small Business</td>\n",
       "      <td>Furniture</td>\n",
       "      <td>...</td>\n",
       "      <td>Central</td>\n",
       "      <td>Minnesota</td>\n",
       "      <td>Prior Lake</td>\n",
       "      <td>55372</td>\n",
       "      <td>2015-12-05</td>\n",
       "      <td>2015-05-14</td>\n",
       "      <td>803.4705</td>\n",
       "      <td>16</td>\n",
       "      <td>1164.45</td>\n",
       "      <td>86838</td>\n",
       "    </tr>\n",
       "    <tr>\n",
       "      <th>4</th>\n",
       "      <td>24846</td>\n",
       "      <td>Medium</td>\n",
       "      <td>0.08</td>\n",
       "      <td>3.28</td>\n",
       "      <td>2.31</td>\n",
       "      <td>14</td>\n",
       "      <td>Gwendolyn F Tyson</td>\n",
       "      <td>Regular Air</td>\n",
       "      <td>Small Business</td>\n",
       "      <td>Office Supplies</td>\n",
       "      <td>...</td>\n",
       "      <td>Central</td>\n",
       "      <td>Minnesota</td>\n",
       "      <td>Prior Lake</td>\n",
       "      <td>55372</td>\n",
       "      <td>2015-12-05</td>\n",
       "      <td>2015-05-13</td>\n",
       "      <td>-24.0300</td>\n",
       "      <td>7</td>\n",
       "      <td>22.23</td>\n",
       "      <td>86838</td>\n",
       "    </tr>\n",
       "  </tbody>\n",
       "</table>\n",
       "<p>5 rows × 25 columns</p>\n",
       "</div>"
      ],
      "text/plain": [
       "   Row_ID Order_Priority  Discount  Unit_Price  Shipping_Cost  Customer_ID  \\\n",
       "0   20847           High      0.01        2.84           0.93            3   \n",
       "1   20228  Not Specified      0.02      500.98          26.00            5   \n",
       "2   21776       Critical      0.06        9.48           7.29           11   \n",
       "3   24844         Medium      0.09       78.69          19.99           14   \n",
       "4   24846         Medium      0.08        3.28           2.31           14   \n",
       "\n",
       "       Customer_Name       Ship_Mode Customer_Segment Product_Category  ...  \\\n",
       "0      Bonnie Potter     Express Air        Corporate  Office Supplies  ...   \n",
       "1     Ronnie Proctor  Delivery Truck      Home Office        Furniture  ...   \n",
       "2      Marcus Dunlap     Regular Air      Home Office        Furniture  ...   \n",
       "3  Gwendolyn F Tyson     Regular Air   Small Business        Furniture  ...   \n",
       "4  Gwendolyn F Tyson     Regular Air   Small Business  Office Supplies  ...   \n",
       "\n",
       "    Region    Province         City  Postal_Code Order_Date  Ship_Date  \\\n",
       "0     West  Washington    Anacortes        98221 2015-07-01 2015-08-01   \n",
       "1     West  California  San Gabriel        91776 2015-06-13 2015-06-15   \n",
       "2     East  New Jersey      Roselle         7203 2015-02-15 2015-02-17   \n",
       "3  Central   Minnesota   Prior Lake        55372 2015-12-05 2015-05-14   \n",
       "4  Central   Minnesota   Prior Lake        55372 2015-12-05 2015-05-13   \n",
       "\n",
       "      Profit Quantity    Sales Order_ID  \n",
       "0     4.5600        4    13.01    88522  \n",
       "1  4390.3665       12  6362.85    90193  \n",
       "2   -53.8096       22   211.15    90192  \n",
       "3   803.4705       16  1164.45    86838  \n",
       "4   -24.0300        7    22.23    86838  \n",
       "\n",
       "[5 rows x 25 columns]"
      ]
     },
     "execution_count": 4,
     "metadata": {},
     "output_type": "execute_result"
    }
   ],
   "source": [
    "df=pd.read_csv(\"C:/Users/kunal vashistha/Desktop/Super.csv\",parse_dates=[\"Order_Date\",\"Ship_Date\"])\n",
    "df.head()"
   ]
  },
  {
   "cell_type": "code",
   "execution_count": 5,
   "id": "7a5bf1b5",
   "metadata": {},
   "outputs": [
    {
     "data": {
      "text/plain": [
       "Index(['Row_ID', 'Order_Priority', 'Discount', 'Unit_Price', 'Shipping_Cost',\n",
       "       'Customer_ID', 'Customer_Name', 'Ship_Mode', 'Customer_Segment',\n",
       "       'Product_Category', 'Product_Sub-Category', 'Product_Container',\n",
       "       'Product_Name', 'Product_Base_Margin', 'Country', 'Region', 'Province',\n",
       "       'City', 'Postal_Code', 'Order_Date', 'Ship_Date', 'Profit', 'Quantity',\n",
       "       'Sales', 'Order_ID'],\n",
       "      dtype='object')"
      ]
     },
     "execution_count": 5,
     "metadata": {},
     "output_type": "execute_result"
    }
   ],
   "source": [
    "df.columns"
   ]
  },
  {
   "cell_type": "code",
   "execution_count": 6,
   "id": "029d0d10",
   "metadata": {},
   "outputs": [
    {
     "data": {
      "text/plain": [
       "224077.6118353"
      ]
     },
     "execution_count": 6,
     "metadata": {},
     "output_type": "execute_result"
    }
   ],
   "source": [
    "#Total_profits\n",
    "df[\"Profit\"].sum()"
   ]
  },
  {
   "cell_type": "code",
   "execution_count": 11,
   "id": "ffb53e33",
   "metadata": {},
   "outputs": [
    {
     "data": {
      "text/html": [
       "<div>\n",
       "<style scoped>\n",
       "    .dataframe tbody tr th:only-of-type {\n",
       "        vertical-align: middle;\n",
       "    }\n",
       "\n",
       "    .dataframe tbody tr th {\n",
       "        vertical-align: top;\n",
       "    }\n",
       "\n",
       "    .dataframe thead th {\n",
       "        text-align: right;\n",
       "    }\n",
       "</style>\n",
       "<table border=\"1\" class=\"dataframe\">\n",
       "  <thead>\n",
       "    <tr style=\"text-align: right;\">\n",
       "      <th></th>\n",
       "      <th>Profit</th>\n",
       "    </tr>\n",
       "    <tr>\n",
       "      <th>Region</th>\n",
       "      <th></th>\n",
       "    </tr>\n",
       "  </thead>\n",
       "  <tbody>\n",
       "    <tr>\n",
       "      <th>Central</th>\n",
       "      <td>77365.472669</td>\n",
       "    </tr>\n",
       "    <tr>\n",
       "      <th>East</th>\n",
       "      <td>85291.403446</td>\n",
       "    </tr>\n",
       "    <tr>\n",
       "      <th>South</th>\n",
       "      <td>-14424.054379</td>\n",
       "    </tr>\n",
       "    <tr>\n",
       "      <th>West</th>\n",
       "      <td>75844.790100</td>\n",
       "    </tr>\n",
       "  </tbody>\n",
       "</table>\n",
       "</div>"
      ],
      "text/plain": [
       "               Profit\n",
       "Region               \n",
       "Central  77365.472669\n",
       "East     85291.403446\n",
       "South   -14424.054379\n",
       "West     75844.790100"
      ]
     },
     "execution_count": 11,
     "metadata": {},
     "output_type": "execute_result"
    }
   ],
   "source": [
    "#Region wise profit\n",
    "a=df[[\"Region\",\"Profit\"]].groupby(\"Region\").sum()\n",
    "a"
   ]
  },
  {
   "cell_type": "code",
   "execution_count": 12,
   "id": "d48e4e4b",
   "metadata": {},
   "outputs": [
    {
     "data": {
      "text/plain": [
       "<AxesSubplot: xlabel='Region'>"
      ]
     },
     "execution_count": 12,
     "metadata": {},
     "output_type": "execute_result"
    },
    {
     "data": {
      "image/png": "[encoded data removed]",
      "text/plain": [
       "<Figure size 640x480 with 1 Axes>"
      ]
     },
     "metadata": {},
     "output_type": "display_data"
    }
   ],
   "source": [
    "a.plot.bar()"
   ]
  },
  {
   "cell_type": "code",
   "execution_count": 14,
   "id": "1e5c29b6",
   "metadata": {},
   "outputs": [
    {
     "data": {
      "text/plain": [
       "array(['Express Air', 'Delivery Truck', 'Regular Air'], dtype=object)"
      ]
     },
     "execution_count": 14,
     "metadata": {},
     "output_type": "execute_result"
    }
   ],
   "source": [
    "#unquie values of ship mode\n",
    "df[\"Ship_Mode\"].unique()"
   ]
  },
  {
   "cell_type": "code",
   "execution_count": 18,
   "id": "3da13049",
   "metadata": {},
   "outputs": [
    {
     "data": {
      "text/plain": [
       "Regular Air       1437\n",
       "Delivery Truck     275\n",
       "Express Air        240\n",
       "Name: Ship_Mode, dtype: int64"
      ]
     },
     "execution_count": 18,
     "metadata": {},
     "output_type": "execute_result"
    }
   ],
   "source": [
    "#counts\n",
    "a=df[\"Ship_Mode\"].value_counts()\n",
    "a"
   ]
  },
  {
   "cell_type": "code",
   "execution_count": 19,
   "id": "fd94440b",
   "metadata": {},
   "outputs": [
    {
     "data": {
      "text/plain": [
       "<AxesSubplot: >"
      ]
     },
     "execution_count": 19,
     "metadata": {},
     "output_type": "execute_result"
    },
    {
     "data": {
      "image/png": "[encoded data removed]",
      "text/plain": [
       "<Figure size 640x480 with 1 Axes>"
      ]
     },
     "metadata": {},
     "output_type": "display_data"
    }
   ],
   "source": [
    "a.plot()"
   ]
  },
  {
   "cell_type": "code",
   "execution_count": 21,
   "id": "d1b8b67c",
   "metadata": {},
   "outputs": [
    {
     "data": {
      "text/plain": [
       "Timestamp('2015-01-01 00:00:00')"
      ]
     },
     "execution_count": 21,
     "metadata": {},
     "output_type": "execute_result"
    }
   ],
   "source": [
    "#start date\n",
    "df[\"Order_Date\"].min()"
   ]
  },
  {
   "cell_type": "code",
   "execution_count": 23,
   "id": "c80e3af2",
   "metadata": {},
   "outputs": [
    {
     "data": {
      "text/plain": [
       "Timestamp('2015-12-06 00:00:00')"
      ]
     },
     "execution_count": 23,
     "metadata": {},
     "output_type": "execute_result"
    }
   ],
   "source": [
    "#End date \n",
    "df[\"Order_Date\"].max()"
   ]
  },
  {
   "cell_type": "code",
   "execution_count": 25,
   "id": "0ddc8ffe",
   "metadata": {},
   "outputs": [
    {
     "data": {
      "text/plain": [
       "Timedelta('339 days 00:00:00')"
      ]
     },
     "execution_count": 25,
     "metadata": {},
     "output_type": "execute_result"
    }
   ],
   "source": [
    "#total number of days \n",
    "df[\"Order_Date\"].max()-df[\"Order_Date\"].min()"
   ]
  },
  {
   "cell_type": "code",
   "execution_count": 27,
   "id": "0abd3e7a",
   "metadata": {},
   "outputs": [
    {
     "data": {
      "text/html": [
       "<div>\n",
       "<style scoped>\n",
       "    .dataframe tbody tr th:only-of-type {\n",
       "        vertical-align: middle;\n",
       "    }\n",
       "\n",
       "    .dataframe tbody tr th {\n",
       "        vertical-align: top;\n",
       "    }\n",
       "\n",
       "    .dataframe thead th {\n",
       "        text-align: right;\n",
       "    }\n",
       "</style>\n",
       "<table border=\"1\" class=\"dataframe\">\n",
       "  <thead>\n",
       "    <tr style=\"text-align: right;\">\n",
       "      <th></th>\n",
       "      <th>Row_ID</th>\n",
       "      <th>Order_Priority</th>\n",
       "      <th>Discount</th>\n",
       "      <th>Unit_Price</th>\n",
       "      <th>Shipping_Cost</th>\n",
       "      <th>Customer_ID</th>\n",
       "      <th>Customer_Name</th>\n",
       "      <th>Ship_Mode</th>\n",
       "      <th>Customer_Segment</th>\n",
       "      <th>Product_Category</th>\n",
       "      <th>...</th>\n",
       "      <th>Province</th>\n",
       "      <th>City</th>\n",
       "      <th>Postal_Code</th>\n",
       "      <th>Order_Date</th>\n",
       "      <th>Ship_Date</th>\n",
       "      <th>Profit</th>\n",
       "      <th>Quantity</th>\n",
       "      <th>Sales</th>\n",
       "      <th>Order_ID</th>\n",
       "      <th>month</th>\n",
       "    </tr>\n",
       "  </thead>\n",
       "  <tbody>\n",
       "    <tr>\n",
       "      <th>0</th>\n",
       "      <td>20847</td>\n",
       "      <td>High</td>\n",
       "      <td>0.01</td>\n",
       "      <td>2.84</td>\n",
       "      <td>0.93</td>\n",
       "      <td>3</td>\n",
       "      <td>Bonnie Potter</td>\n",
       "      <td>Express Air</td>\n",
       "      <td>Corporate</td>\n",
       "      <td>Office Supplies</td>\n",
       "      <td>...</td>\n",
       "      <td>Washington</td>\n",
       "      <td>Anacortes</td>\n",
       "      <td>98221</td>\n",
       "      <td>2015-07-01</td>\n",
       "      <td>2015-08-01</td>\n",
       "      <td>4.5600</td>\n",
       "      <td>4</td>\n",
       "      <td>13.01</td>\n",
       "      <td>88522</td>\n",
       "      <td>7</td>\n",
       "    </tr>\n",
       "    <tr>\n",
       "      <th>1</th>\n",
       "      <td>20228</td>\n",
       "      <td>Not Specified</td>\n",
       "      <td>0.02</td>\n",
       "      <td>500.98</td>\n",
       "      <td>26.00</td>\n",
       "      <td>5</td>\n",
       "      <td>Ronnie Proctor</td>\n",
       "      <td>Delivery Truck</td>\n",
       "      <td>Home Office</td>\n",
       "      <td>Furniture</td>\n",
       "      <td>...</td>\n",
       "      <td>California</td>\n",
       "      <td>San Gabriel</td>\n",
       "      <td>91776</td>\n",
       "      <td>2015-06-13</td>\n",
       "      <td>2015-06-15</td>\n",
       "      <td>4390.3665</td>\n",
       "      <td>12</td>\n",
       "      <td>6362.85</td>\n",
       "      <td>90193</td>\n",
       "      <td>6</td>\n",
       "    </tr>\n",
       "    <tr>\n",
       "      <th>2</th>\n",
       "      <td>21776</td>\n",
       "      <td>Critical</td>\n",
       "      <td>0.06</td>\n",
       "      <td>9.48</td>\n",
       "      <td>7.29</td>\n",
       "      <td>11</td>\n",
       "      <td>Marcus Dunlap</td>\n",
       "      <td>Regular Air</td>\n",
       "      <td>Home Office</td>\n",
       "      <td>Furniture</td>\n",
       "      <td>...</td>\n",
       "      <td>New Jersey</td>\n",
       "      <td>Roselle</td>\n",
       "      <td>7203</td>\n",
       "      <td>2015-02-15</td>\n",
       "      <td>2015-02-17</td>\n",
       "      <td>-53.8096</td>\n",
       "      <td>22</td>\n",
       "      <td>211.15</td>\n",
       "      <td>90192</td>\n",
       "      <td>2</td>\n",
       "    </tr>\n",
       "    <tr>\n",
       "      <th>3</th>\n",
       "      <td>24844</td>\n",
       "      <td>Medium</td>\n",
       "      <td>0.09</td>\n",
       "      <td>78.69</td>\n",
       "      <td>19.99</td>\n",
       "      <td>14</td>\n",
       "      <td>Gwendolyn F Tyson</td>\n",
       "      <td>Regular Air</td>\n",
       "      <td>Small Business</td>\n",
       "      <td>Furniture</td>\n",
       "      <td>...</td>\n",
       "      <td>Minnesota</td>\n",
       "      <td>Prior Lake</td>\n",
       "      <td>55372</td>\n",
       "      <td>2015-12-05</td>\n",
       "      <td>2015-05-14</td>\n",
       "      <td>803.4705</td>\n",
       "      <td>16</td>\n",
       "      <td>1164.45</td>\n",
       "      <td>86838</td>\n",
       "      <td>12</td>\n",
       "    </tr>\n",
       "    <tr>\n",
       "      <th>4</th>\n",
       "      <td>24846</td>\n",
       "      <td>Medium</td>\n",
       "      <td>0.08</td>\n",
       "      <td>3.28</td>\n",
       "      <td>2.31</td>\n",
       "      <td>14</td>\n",
       "      <td>Gwendolyn F Tyson</td>\n",
       "      <td>Regular Air</td>\n",
       "      <td>Small Business</td>\n",
       "      <td>Office Supplies</td>\n",
       "      <td>...</td>\n",
       "      <td>Minnesota</td>\n",
       "      <td>Prior Lake</td>\n",
       "      <td>55372</td>\n",
       "      <td>2015-12-05</td>\n",
       "      <td>2015-05-13</td>\n",
       "      <td>-24.0300</td>\n",
       "      <td>7</td>\n",
       "      <td>22.23</td>\n",
       "      <td>86838</td>\n",
       "      <td>12</td>\n",
       "    </tr>\n",
       "  </tbody>\n",
       "</table>\n",
       "<p>5 rows × 26 columns</p>\n",
       "</div>"
      ],
      "text/plain": [
       "   Row_ID Order_Priority  Discount  Unit_Price  Shipping_Cost  Customer_ID  \\\n",
       "0   20847           High      0.01        2.84           0.93            3   \n",
       "1   20228  Not Specified      0.02      500.98          26.00            5   \n",
       "2   21776       Critical      0.06        9.48           7.29           11   \n",
       "3   24844         Medium      0.09       78.69          19.99           14   \n",
       "4   24846         Medium      0.08        3.28           2.31           14   \n",
       "\n",
       "       Customer_Name       Ship_Mode Customer_Segment Product_Category  ...  \\\n",
       "0      Bonnie Potter     Express Air        Corporate  Office Supplies  ...   \n",
       "1     Ronnie Proctor  Delivery Truck      Home Office        Furniture  ...   \n",
       "2      Marcus Dunlap     Regular Air      Home Office        Furniture  ...   \n",
       "3  Gwendolyn F Tyson     Regular Air   Small Business        Furniture  ...   \n",
       "4  Gwendolyn F Tyson     Regular Air   Small Business  Office Supplies  ...   \n",
       "\n",
       "     Province         City Postal_Code  Order_Date  Ship_Date     Profit  \\\n",
       "0  Washington    Anacortes       98221  2015-07-01 2015-08-01     4.5600   \n",
       "1  California  San Gabriel       91776  2015-06-13 2015-06-15  4390.3665   \n",
       "2  New Jersey      Roselle        7203  2015-02-15 2015-02-17   -53.8096   \n",
       "3   Minnesota   Prior Lake       55372  2015-12-05 2015-05-14   803.4705   \n",
       "4   Minnesota   Prior Lake       55372  2015-12-05 2015-05-13   -24.0300   \n",
       "\n",
       "  Quantity    Sales  Order_ID month  \n",
       "0        4    13.01     88522     7  \n",
       "1       12  6362.85     90193     6  \n",
       "2       22   211.15     90192     2  \n",
       "3       16  1164.45     86838    12  \n",
       "4        7    22.23     86838    12  \n",
       "\n",
       "[5 rows x 26 columns]"
      ]
     },
     "execution_count": 27,
     "metadata": {},
     "output_type": "execute_result"
    }
   ],
   "source": [
    "#I want to had month column \n",
    "df[\"month\"]=df[\"Order_Date\"].dt.month\n",
    "df.head()"
   ]
  },
  {
   "cell_type": "code",
   "execution_count": 28,
   "id": "2993de98",
   "metadata": {},
   "outputs": [
    {
     "data": {
      "text/plain": [
       "month\n",
       "1      8138.978548\n",
       "2     38086.675304\n",
       "3      -174.547233\n",
       "4     54034.594984\n",
       "5     78211.808754\n",
       "6     26129.807917\n",
       "7      3381.085700\n",
       "8     11397.569240\n",
       "9      1396.656930\n",
       "10   -12508.388680\n",
       "11     4344.775500\n",
       "12    11638.594872\n",
       "Name: Profit, dtype: float64"
      ]
     },
     "execution_count": 28,
     "metadata": {},
     "output_type": "execute_result"
    }
   ],
   "source": [
    "#profit per month\n",
    "x=df.groupby(\"month\")[\"Profit\"].sum()\n",
    "x"
   ]
  },
  {
   "cell_type": "code",
   "execution_count": 30,
   "id": "bb125478",
   "metadata": {},
   "outputs": [
    {
     "data": {
      "text/plain": [
       "Order_Date\n",
       "April        54034.594984\n",
       "August       11397.569240\n",
       "December     11638.594872\n",
       "February     38086.675304\n",
       "January       8138.978548\n",
       "July          3381.085700\n",
       "June         26129.807917\n",
       "March         -174.547233\n",
       "May          78211.808754\n",
       "November      4344.775500\n",
       "October     -12508.388680\n",
       "September     1396.656930\n",
       "Name: Profit, dtype: float64"
      ]
     },
     "execution_count": 30,
     "metadata": {},
     "output_type": "execute_result"
    }
   ],
   "source": [
    "z=df.groupby(df[\"Order_Date\"].dt.month_name())[\"Profit\"].sum()\n",
    "z"
   ]
  },
  {
   "cell_type": "code",
   "execution_count": 32,
   "id": "3ce44dbf",
   "metadata": {},
   "outputs": [
    {
     "data": {
      "text/plain": [
       "Order_Date  Region \n",
       "0           Central    13727.207860\n",
       "            East        1476.992164\n",
       "            South       1780.680200\n",
       "            West        5160.203680\n",
       "1           Central     9542.148560\n",
       "            East       20987.587369\n",
       "            South       6811.773101\n",
       "            West       12525.970580\n",
       "2           Central     4419.936352\n",
       "            East       13448.053959\n",
       "            South       3386.647400\n",
       "            West       -3891.305386\n",
       "3           Central     4930.283635\n",
       "            East       11330.480700\n",
       "            South      -2059.309540\n",
       "            West        6028.850228\n",
       "4           Central    20729.218162\n",
       "            East        4206.001788\n",
       "            South      -4768.246220\n",
       "            West       -1665.007438\n",
       "5           Central    15190.151990\n",
       "            East       31939.604049\n",
       "            South     -18507.420030\n",
       "            West       33111.440840\n",
       "6           Central     8826.526110\n",
       "            East        1902.683417\n",
       "            South      -1068.179290\n",
       "            West       24574.637596\n",
       "Name: Profit, dtype: float64"
      ]
     },
     "execution_count": 32,
     "metadata": {},
     "output_type": "execute_result"
    }
   ],
   "source": [
    "#profits of weekdays on basis of regions\n",
    "day_per_profits=df.groupby([df[\"Order_Date\"].dt.weekday,\"Region\"])[\"Profit\"].sum()\n",
    "day_per_profits"
   ]
  },
  {
   "cell_type": "code",
   "execution_count": 34,
   "id": "132293e0",
   "metadata": {},
   "outputs": [
    {
     "data": {
      "text/plain": [
       "array([2, 5, 6, 1, 3, 4, 0], dtype=int64)"
      ]
     },
     "execution_count": 34,
     "metadata": {},
     "output_type": "execute_result"
    }
   ],
   "source": [
    "a=df[\"Order_Date\"].dt.weekday.unique()\n",
    "a"
   ]
  },
  {
   "cell_type": "code",
   "execution_count": 35,
   "id": "1c33e6b3",
   "metadata": {},
   "outputs": [
    {
     "data": {
      "text/plain": [
       "<AxesSubplot: xlabel='Order_Date,Region'>"
      ]
     },
     "execution_count": 35,
     "metadata": {},
     "output_type": "execute_result"
    },
    {
     "data": {
      "image/png": "[encoded data removed]",
      "text/plain": [
       "<Figure size 640x480 with 1 Axes>"
      ]
     },
     "metadata": {},
     "output_type": "display_data"
    }
   ],
   "source": [
    "day_per_profits.plot()"
   ]
  },
  {
   "cell_type": "code",
   "execution_count": 36,
   "id": "319ec1d4",
   "metadata": {},
   "outputs": [
    {
     "data": {
      "text/html": [
       "<div>\n",
       "<style scoped>\n",
       "    .dataframe tbody tr th:only-of-type {\n",
       "        vertical-align: middle;\n",
       "    }\n",
       "\n",
       "    .dataframe tbody tr th {\n",
       "        vertical-align: top;\n",
       "    }\n",
       "\n",
       "    .dataframe thead th {\n",
       "        text-align: right;\n",
       "    }\n",
       "</style>\n",
       "<table border=\"1\" class=\"dataframe\">\n",
       "  <thead>\n",
       "    <tr style=\"text-align: right;\">\n",
       "      <th></th>\n",
       "      <th>Row_ID</th>\n",
       "      <th>Order_Priority</th>\n",
       "      <th>Discount</th>\n",
       "      <th>Unit_Price</th>\n",
       "      <th>Shipping_Cost</th>\n",
       "      <th>Customer_ID</th>\n",
       "      <th>Customer_Name</th>\n",
       "      <th>Ship_Mode</th>\n",
       "      <th>Customer_Segment</th>\n",
       "      <th>Product_Category</th>\n",
       "      <th>...</th>\n",
       "      <th>Province</th>\n",
       "      <th>City</th>\n",
       "      <th>Postal_Code</th>\n",
       "      <th>Order_Date</th>\n",
       "      <th>Ship_Date</th>\n",
       "      <th>Profit</th>\n",
       "      <th>Quantity</th>\n",
       "      <th>Sales</th>\n",
       "      <th>Order_ID</th>\n",
       "      <th>month</th>\n",
       "    </tr>\n",
       "  </thead>\n",
       "  <tbody>\n",
       "    <tr>\n",
       "      <th>0</th>\n",
       "      <td>20847</td>\n",
       "      <td>High</td>\n",
       "      <td>0.01</td>\n",
       "      <td>2.84</td>\n",
       "      <td>0.93</td>\n",
       "      <td>3</td>\n",
       "      <td>Bonnie Potter</td>\n",
       "      <td>Express Air</td>\n",
       "      <td>Corporate</td>\n",
       "      <td>Office Supplies</td>\n",
       "      <td>...</td>\n",
       "      <td>Washington</td>\n",
       "      <td>Anacortes</td>\n",
       "      <td>98221</td>\n",
       "      <td>2015-07-01</td>\n",
       "      <td>2015-08-01</td>\n",
       "      <td>4.5600</td>\n",
       "      <td>4</td>\n",
       "      <td>13.01</td>\n",
       "      <td>88522</td>\n",
       "      <td>7</td>\n",
       "    </tr>\n",
       "    <tr>\n",
       "      <th>1</th>\n",
       "      <td>20228</td>\n",
       "      <td>Not Specified</td>\n",
       "      <td>0.02</td>\n",
       "      <td>500.98</td>\n",
       "      <td>26.00</td>\n",
       "      <td>5</td>\n",
       "      <td>Ronnie Proctor</td>\n",
       "      <td>Delivery Truck</td>\n",
       "      <td>Home Office</td>\n",
       "      <td>Furniture</td>\n",
       "      <td>...</td>\n",
       "      <td>California</td>\n",
       "      <td>San Gabriel</td>\n",
       "      <td>91776</td>\n",
       "      <td>2015-06-13</td>\n",
       "      <td>2015-06-15</td>\n",
       "      <td>4390.3665</td>\n",
       "      <td>12</td>\n",
       "      <td>6362.85</td>\n",
       "      <td>90193</td>\n",
       "      <td>6</td>\n",
       "    </tr>\n",
       "    <tr>\n",
       "      <th>2</th>\n",
       "      <td>21776</td>\n",
       "      <td>Critical</td>\n",
       "      <td>0.06</td>\n",
       "      <td>9.48</td>\n",
       "      <td>7.29</td>\n",
       "      <td>11</td>\n",
       "      <td>Marcus Dunlap</td>\n",
       "      <td>Regular Air</td>\n",
       "      <td>Home Office</td>\n",
       "      <td>Furniture</td>\n",
       "      <td>...</td>\n",
       "      <td>New Jersey</td>\n",
       "      <td>Roselle</td>\n",
       "      <td>7203</td>\n",
       "      <td>2015-02-15</td>\n",
       "      <td>2015-02-17</td>\n",
       "      <td>-53.8096</td>\n",
       "      <td>22</td>\n",
       "      <td>211.15</td>\n",
       "      <td>90192</td>\n",
       "      <td>2</td>\n",
       "    </tr>\n",
       "    <tr>\n",
       "      <th>3</th>\n",
       "      <td>24844</td>\n",
       "      <td>Medium</td>\n",
       "      <td>0.09</td>\n",
       "      <td>78.69</td>\n",
       "      <td>19.99</td>\n",
       "      <td>14</td>\n",
       "      <td>Gwendolyn F Tyson</td>\n",
       "      <td>Regular Air</td>\n",
       "      <td>Small Business</td>\n",
       "      <td>Furniture</td>\n",
       "      <td>...</td>\n",
       "      <td>Minnesota</td>\n",
       "      <td>Prior Lake</td>\n",
       "      <td>55372</td>\n",
       "      <td>2015-12-05</td>\n",
       "      <td>2015-05-14</td>\n",
       "      <td>803.4705</td>\n",
       "      <td>16</td>\n",
       "      <td>1164.45</td>\n",
       "      <td>86838</td>\n",
       "      <td>12</td>\n",
       "    </tr>\n",
       "    <tr>\n",
       "      <th>4</th>\n",
       "      <td>24846</td>\n",
       "      <td>Medium</td>\n",
       "      <td>0.08</td>\n",
       "      <td>3.28</td>\n",
       "      <td>2.31</td>\n",
       "      <td>14</td>\n",
       "      <td>Gwendolyn F Tyson</td>\n",
       "      <td>Regular Air</td>\n",
       "      <td>Small Business</td>\n",
       "      <td>Office Supplies</td>\n",
       "      <td>...</td>\n",
       "      <td>Minnesota</td>\n",
       "      <td>Prior Lake</td>\n",
       "      <td>55372</td>\n",
       "      <td>2015-12-05</td>\n",
       "      <td>2015-05-13</td>\n",
       "      <td>-24.0300</td>\n",
       "      <td>7</td>\n",
       "      <td>22.23</td>\n",
       "      <td>86838</td>\n",
       "      <td>12</td>\n",
       "    </tr>\n",
       "  </tbody>\n",
       "</table>\n",
       "<p>5 rows × 26 columns</p>\n",
       "</div>"
      ],
      "text/plain": [
       "   Row_ID Order_Priority  Discount  Unit_Price  Shipping_Cost  Customer_ID  \\\n",
       "0   20847           High      0.01        2.84           0.93            3   \n",
       "1   20228  Not Specified      0.02      500.98          26.00            5   \n",
       "2   21776       Critical      0.06        9.48           7.29           11   \n",
       "3   24844         Medium      0.09       78.69          19.99           14   \n",
       "4   24846         Medium      0.08        3.28           2.31           14   \n",
       "\n",
       "       Customer_Name       Ship_Mode Customer_Segment Product_Category  ...  \\\n",
       "0      Bonnie Potter     Express Air        Corporate  Office Supplies  ...   \n",
       "1     Ronnie Proctor  Delivery Truck      Home Office        Furniture  ...   \n",
       "2      Marcus Dunlap     Regular Air      Home Office        Furniture  ...   \n",
       "3  Gwendolyn F Tyson     Regular Air   Small Business        Furniture  ...   \n",
       "4  Gwendolyn F Tyson     Regular Air   Small Business  Office Supplies  ...   \n",
       "\n",
       "     Province         City Postal_Code  Order_Date  Ship_Date     Profit  \\\n",
       "0  Washington    Anacortes       98221  2015-07-01 2015-08-01     4.5600   \n",
       "1  California  San Gabriel       91776  2015-06-13 2015-06-15  4390.3665   \n",
       "2  New Jersey      Roselle        7203  2015-02-15 2015-02-17   -53.8096   \n",
       "3   Minnesota   Prior Lake       55372  2015-12-05 2015-05-14   803.4705   \n",
       "4   Minnesota   Prior Lake       55372  2015-12-05 2015-05-13   -24.0300   \n",
       "\n",
       "  Quantity    Sales  Order_ID month  \n",
       "0        4    13.01     88522     7  \n",
       "1       12  6362.85     90193     6  \n",
       "2       22   211.15     90192     2  \n",
       "3       16  1164.45     86838    12  \n",
       "4        7    22.23     86838    12  \n",
       "\n",
       "[5 rows x 26 columns]"
      ]
     },
     "execution_count": 36,
     "metadata": {},
     "output_type": "execute_result"
    }
   ],
   "source": [
    "df.head()"
   ]
  },
  {
   "cell_type": "code",
   "execution_count": 37,
   "id": "9020c467",
   "metadata": {},
   "outputs": [
    {
     "data": {
      "text/plain": [
       "array(['Corporate', 'Home Office', 'Small Business', 'Consumer'],\n",
       "      dtype=object)"
      ]
     },
     "execution_count": 37,
     "metadata": {},
     "output_type": "execute_result"
    }
   ],
   "source": [
    "#unique values of customer segment column\n",
    "df[\"Customer_Segment\"].unique()"
   ]
  },
  {
   "cell_type": "code",
   "execution_count": 38,
   "id": "8fa87e9f",
   "metadata": {},
   "outputs": [
    {
     "data": {
      "text/plain": [
       "array([2, 5, 6, 1, 3, 4, 0], dtype=int64)"
      ]
     },
     "execution_count": 38,
     "metadata": {},
     "output_type": "execute_result"
    }
   ],
   "source": [
    "a=df[\"Order_Date\"].dt.weekday.unique()\n",
    "a"
   ]
  },
  {
   "cell_type": "code",
   "execution_count": 39,
   "id": "cf6c8364",
   "metadata": {},
   "outputs": [
    {
     "data": {
      "text/plain": [
       "Order_Date\n",
       "0    22145.083903\n",
       "1    49867.479610\n",
       "2    17363.332325\n",
       "3    20230.305023\n",
       "4    18501.966292\n",
       "5    61733.776849\n",
       "6    34235.667833\n",
       "Name: Profit, dtype: float64"
      ]
     },
     "execution_count": 39,
     "metadata": {},
     "output_type": "execute_result"
    }
   ],
   "source": [
    "#total profit of weekdays\n",
    "b=df.groupby(df[\"Order_Date\"].dt.weekday)[\"Profit\"].sum()\n",
    "b"
   ]
  },
  {
   "cell_type": "code",
   "execution_count": 40,
   "id": "4aa7b950",
   "metadata": {},
   "outputs": [
    {
     "data": {
      "text/plain": [
       "array([0, 1, 2, 3, 4, 5, 6], dtype=int64)"
      ]
     },
     "execution_count": 40,
     "metadata": {},
     "output_type": "execute_result"
    }
   ],
   "source": [
    "c=np.array(b.index)\n",
    "c"
   ]
  },
  {
   "cell_type": "code",
   "execution_count": 41,
   "id": "2e07af68",
   "metadata": {},
   "outputs": [
    {
     "data": {
      "text/plain": [
       "array(['Mon', 'Tue', 'Wed', 'Thur', 'Fri', 'Sat', 'Sun'], dtype='<U4')"
      ]
     },
     "execution_count": 41,
     "metadata": {},
     "output_type": "execute_result"
    }
   ],
   "source": [
    "d=np.array([\"Mon\",\"Tue\",\"Wed\",\"Thur\",\"Fri\",\"Sat\",\"Sun\"])\n",
    "d"
   ]
  },
  {
   "cell_type": "code",
   "execution_count": 42,
   "id": "866d786b",
   "metadata": {},
   "outputs": [
    {
     "data": {
      "text/plain": [
       "<matplotlib.legend.Legend at 0x226e4be90d0>"
      ]
     },
     "execution_count": 42,
     "metadata": {},
     "output_type": "execute_result"
    },
    {
     "data": {
      "image/png": "[encoded data removed]",
      "text/plain": [
       "<Figure size 640x480 with 1 Axes>"
      ]
     },
     "metadata": {},
     "output_type": "display_data"
    }
   ],
   "source": [
    "plt.xticks(c,d)\n",
    "plt.bar(d,b,label=\"Profit\")\n",
    "plt.legend()"
   ]
  },
  {
   "cell_type": "code",
   "execution_count": 43,
   "id": "87eb231b",
   "metadata": {},
   "outputs": [
    {
     "data": {
      "text/plain": [
       "array([ 7,  6,  2, 12,  8,  5,  1,  3, 10,  4,  9, 11], dtype=int64)"
      ]
     },
     "execution_count": 43,
     "metadata": {},
     "output_type": "execute_result"
    }
   ],
   "source": [
    "#month list\n",
    "c=np.array(df[\"Order_Date\"].dt.month.unique())\n",
    "c"
   ]
  },
  {
   "cell_type": "code",
   "execution_count": 44,
   "id": "6d9c9d0b",
   "metadata": {},
   "outputs": [
    {
     "data": {
      "text/plain": [
       "array(['July', 'June', 'February', 'December', 'August', 'May', 'January',\n",
       "       'March', 'October', 'April', 'September', 'November'], dtype=object)"
      ]
     },
     "execution_count": 44,
     "metadata": {},
     "output_type": "execute_result"
    }
   ],
   "source": [
    "#month name\n",
    "c=np.array(df[\"Order_Date\"].dt.month_name().unique())\n",
    "c"
   ]
  },
  {
   "cell_type": "code",
   "execution_count": 45,
   "id": "5fb4d87c",
   "metadata": {},
   "outputs": [
    {
     "data": {
      "text/html": [
       "<div>\n",
       "<style scoped>\n",
       "    .dataframe tbody tr th:only-of-type {\n",
       "        vertical-align: middle;\n",
       "    }\n",
       "\n",
       "    .dataframe tbody tr th {\n",
       "        vertical-align: top;\n",
       "    }\n",
       "\n",
       "    .dataframe thead th {\n",
       "        text-align: right;\n",
       "    }\n",
       "</style>\n",
       "<table border=\"1\" class=\"dataframe\">\n",
       "  <thead>\n",
       "    <tr style=\"text-align: right;\">\n",
       "      <th></th>\n",
       "      <th>Row_ID</th>\n",
       "      <th>Order_Priority</th>\n",
       "      <th>Discount</th>\n",
       "      <th>Unit_Price</th>\n",
       "      <th>Shipping_Cost</th>\n",
       "      <th>Customer_ID</th>\n",
       "      <th>Customer_Name</th>\n",
       "      <th>Ship_Mode</th>\n",
       "      <th>Customer_Segment</th>\n",
       "      <th>Product_Category</th>\n",
       "      <th>...</th>\n",
       "      <th>Province</th>\n",
       "      <th>City</th>\n",
       "      <th>Postal_Code</th>\n",
       "      <th>Order_Date</th>\n",
       "      <th>Ship_Date</th>\n",
       "      <th>Profit</th>\n",
       "      <th>Quantity</th>\n",
       "      <th>Sales</th>\n",
       "      <th>Order_ID</th>\n",
       "      <th>month</th>\n",
       "    </tr>\n",
       "  </thead>\n",
       "  <tbody>\n",
       "    <tr>\n",
       "      <th>0</th>\n",
       "      <td>20847</td>\n",
       "      <td>High</td>\n",
       "      <td>0.01</td>\n",
       "      <td>2.84</td>\n",
       "      <td>0.93</td>\n",
       "      <td>3</td>\n",
       "      <td>Bonnie Potter</td>\n",
       "      <td>Express Air</td>\n",
       "      <td>Corporate</td>\n",
       "      <td>Office Supplies</td>\n",
       "      <td>...</td>\n",
       "      <td>Washington</td>\n",
       "      <td>Anacortes</td>\n",
       "      <td>98221</td>\n",
       "      <td>2015-07-01</td>\n",
       "      <td>2015-08-01</td>\n",
       "      <td>4.5600</td>\n",
       "      <td>4</td>\n",
       "      <td>13.01</td>\n",
       "      <td>88522</td>\n",
       "      <td>7</td>\n",
       "    </tr>\n",
       "    <tr>\n",
       "      <th>1</th>\n",
       "      <td>20228</td>\n",
       "      <td>Not Specified</td>\n",
       "      <td>0.02</td>\n",
       "      <td>500.98</td>\n",
       "      <td>26.00</td>\n",
       "      <td>5</td>\n",
       "      <td>Ronnie Proctor</td>\n",
       "      <td>Delivery Truck</td>\n",
       "      <td>Home Office</td>\n",
       "      <td>Furniture</td>\n",
       "      <td>...</td>\n",
       "      <td>California</td>\n",
       "      <td>San Gabriel</td>\n",
       "      <td>91776</td>\n",
       "      <td>2015-06-13</td>\n",
       "      <td>2015-06-15</td>\n",
       "      <td>4390.3665</td>\n",
       "      <td>12</td>\n",
       "      <td>6362.85</td>\n",
       "      <td>90193</td>\n",
       "      <td>6</td>\n",
       "    </tr>\n",
       "    <tr>\n",
       "      <th>2</th>\n",
       "      <td>21776</td>\n",
       "      <td>Critical</td>\n",
       "      <td>0.06</td>\n",
       "      <td>9.48</td>\n",
       "      <td>7.29</td>\n",
       "      <td>11</td>\n",
       "      <td>Marcus Dunlap</td>\n",
       "      <td>Regular Air</td>\n",
       "      <td>Home Office</td>\n",
       "      <td>Furniture</td>\n",
       "      <td>...</td>\n",
       "      <td>New Jersey</td>\n",
       "      <td>Roselle</td>\n",
       "      <td>7203</td>\n",
       "      <td>2015-02-15</td>\n",
       "      <td>2015-02-17</td>\n",
       "      <td>-53.8096</td>\n",
       "      <td>22</td>\n",
       "      <td>211.15</td>\n",
       "      <td>90192</td>\n",
       "      <td>2</td>\n",
       "    </tr>\n",
       "    <tr>\n",
       "      <th>3</th>\n",
       "      <td>24844</td>\n",
       "      <td>Medium</td>\n",
       "      <td>0.09</td>\n",
       "      <td>78.69</td>\n",
       "      <td>19.99</td>\n",
       "      <td>14</td>\n",
       "      <td>Gwendolyn F Tyson</td>\n",
       "      <td>Regular Air</td>\n",
       "      <td>Small Business</td>\n",
       "      <td>Furniture</td>\n",
       "      <td>...</td>\n",
       "      <td>Minnesota</td>\n",
       "      <td>Prior Lake</td>\n",
       "      <td>55372</td>\n",
       "      <td>2015-12-05</td>\n",
       "      <td>2015-05-14</td>\n",
       "      <td>803.4705</td>\n",
       "      <td>16</td>\n",
       "      <td>1164.45</td>\n",
       "      <td>86838</td>\n",
       "      <td>12</td>\n",
       "    </tr>\n",
       "    <tr>\n",
       "      <th>4</th>\n",
       "      <td>24846</td>\n",
       "      <td>Medium</td>\n",
       "      <td>0.08</td>\n",
       "      <td>3.28</td>\n",
       "      <td>2.31</td>\n",
       "      <td>14</td>\n",
       "      <td>Gwendolyn F Tyson</td>\n",
       "      <td>Regular Air</td>\n",
       "      <td>Small Business</td>\n",
       "      <td>Office Supplies</td>\n",
       "      <td>...</td>\n",
       "      <td>Minnesota</td>\n",
       "      <td>Prior Lake</td>\n",
       "      <td>55372</td>\n",
       "      <td>2015-12-05</td>\n",
       "      <td>2015-05-13</td>\n",
       "      <td>-24.0300</td>\n",
       "      <td>7</td>\n",
       "      <td>22.23</td>\n",
       "      <td>86838</td>\n",
       "      <td>12</td>\n",
       "    </tr>\n",
       "  </tbody>\n",
       "</table>\n",
       "<p>5 rows × 26 columns</p>\n",
       "</div>"
      ],
      "text/plain": [
       "   Row_ID Order_Priority  Discount  Unit_Price  Shipping_Cost  Customer_ID  \\\n",
       "0   20847           High      0.01        2.84           0.93            3   \n",
       "1   20228  Not Specified      0.02      500.98          26.00            5   \n",
       "2   21776       Critical      0.06        9.48           7.29           11   \n",
       "3   24844         Medium      0.09       78.69          19.99           14   \n",
       "4   24846         Medium      0.08        3.28           2.31           14   \n",
       "\n",
       "       Customer_Name       Ship_Mode Customer_Segment Product_Category  ...  \\\n",
       "0      Bonnie Potter     Express Air        Corporate  Office Supplies  ...   \n",
       "1     Ronnie Proctor  Delivery Truck      Home Office        Furniture  ...   \n",
       "2      Marcus Dunlap     Regular Air      Home Office        Furniture  ...   \n",
       "3  Gwendolyn F Tyson     Regular Air   Small Business        Furniture  ...   \n",
       "4  Gwendolyn F Tyson     Regular Air   Small Business  Office Supplies  ...   \n",
       "\n",
       "     Province         City Postal_Code  Order_Date  Ship_Date     Profit  \\\n",
       "0  Washington    Anacortes       98221  2015-07-01 2015-08-01     4.5600   \n",
       "1  California  San Gabriel       91776  2015-06-13 2015-06-15  4390.3665   \n",
       "2  New Jersey      Roselle        7203  2015-02-15 2015-02-17   -53.8096   \n",
       "3   Minnesota   Prior Lake       55372  2015-12-05 2015-05-14   803.4705   \n",
       "4   Minnesota   Prior Lake       55372  2015-12-05 2015-05-13   -24.0300   \n",
       "\n",
       "  Quantity    Sales  Order_ID month  \n",
       "0        4    13.01     88522     7  \n",
       "1       12  6362.85     90193     6  \n",
       "2       22   211.15     90192     2  \n",
       "3       16  1164.45     86838    12  \n",
       "4        7    22.23     86838    12  \n",
       "\n",
       "[5 rows x 26 columns]"
      ]
     },
     "execution_count": 45,
     "metadata": {},
     "output_type": "execute_result"
    }
   ],
   "source": [
    "df.head()"
   ]
  },
  {
   "cell_type": "code",
   "execution_count": 48,
   "id": "1d1c8424",
   "metadata": {},
   "outputs": [
    {
     "data": {
      "text/plain": [
       "Order_Date  Customer_Segment\n",
       "April       Consumer            15015.005752\n",
       "            Corporate           20909.717488\n",
       "            Home Office         -2935.614836\n",
       "            Small Business      21045.486580\n",
       "August      Consumer              796.898340\n",
       "            Corporate            6803.548300\n",
       "            Home Office           344.591900\n",
       "            Small Business       3452.530700\n",
       "December    Consumer             1526.351422\n",
       "            Corporate            7778.914550\n",
       "            Home Office          2705.856300\n",
       "            Small Business       -372.527400\n",
       "February    Consumer            13804.379546\n",
       "            Corporate            3659.269877\n",
       "            Home Office         18922.900841\n",
       "            Small Business       1700.125040\n",
       "January     Consumer            11877.078720\n",
       "            Corporate          -12373.822365\n",
       "            Home Office          9183.897966\n",
       "            Small Business       -548.175773\n",
       "July        Consumer             1624.276840\n",
       "            Corporate            -744.662300\n",
       "            Home Office         -3821.836820\n",
       "            Small Business       6323.307980\n",
       "June        Consumer            14382.828550\n",
       "            Corporate            8068.996775\n",
       "            Home Office          -522.251720\n",
       "            Small Business       4200.234312\n",
       "March       Consumer            -2367.276140\n",
       "            Corporate          -10278.690826\n",
       "            Home Office         11598.552600\n",
       "            Small Business        872.867133\n",
       "May         Consumer             9401.014163\n",
       "            Corporate           24730.024423\n",
       "            Home Office         17126.092708\n",
       "            Small Business      26954.677460\n",
       "November    Consumer            -3780.965100\n",
       "            Corporate            6740.407700\n",
       "            Home Office           100.028000\n",
       "            Small Business       1285.304900\n",
       "October     Consumer           -14753.668080\n",
       "            Corporate             645.859700\n",
       "            Home Office          1810.404800\n",
       "            Small Business       -210.985100\n",
       "September   Consumer             2369.066260\n",
       "            Corporate           -1495.372320\n",
       "            Home Office           -79.100870\n",
       "            Small Business        602.063860\n",
       "Name: Profit, dtype: float64"
      ]
     },
     "execution_count": 48,
     "metadata": {},
     "output_type": "execute_result"
    }
   ],
   "source": [
    "Month_profits=df.groupby([df[\"Order_Date\"].dt.month_name(),\"Customer_Segment\"])[\"Profit\"].sum()\n",
    "Month_profits"
   ]
  },
  {
   "cell_type": "code",
   "execution_count": 49,
   "id": "4d10cec8",
   "metadata": {},
   "outputs": [
    {
     "data": {
      "text/plain": [
       "<AxesSubplot: xlabel='Order_Date,Customer_Segment'>"
      ]
     },
     "execution_count": 49,
     "metadata": {},
     "output_type": "execute_result"
    },
    {
     "data": {
      "image/png": "[encoded data removed]",
      "text/plain": [
       "<Figure size 640x480 with 1 Axes>"
      ]
     },
     "metadata": {},
     "output_type": "display_data"
    }
   ],
   "source": [
    "Month_profits.plot.line()"
   ]
  },
  {
   "cell_type": "code",
   "execution_count": 50,
   "id": "9b0ef67e",
   "metadata": {},
   "outputs": [
    {
     "data": {
      "text/html": [
       "<div>\n",
       "<style scoped>\n",
       "    .dataframe tbody tr th:only-of-type {\n",
       "        vertical-align: middle;\n",
       "    }\n",
       "\n",
       "    .dataframe tbody tr th {\n",
       "        vertical-align: top;\n",
       "    }\n",
       "\n",
       "    .dataframe thead th {\n",
       "        text-align: right;\n",
       "    }\n",
       "</style>\n",
       "<table border=\"1\" class=\"dataframe\">\n",
       "  <thead>\n",
       "    <tr style=\"text-align: right;\">\n",
       "      <th></th>\n",
       "      <th>Row_ID</th>\n",
       "      <th>Order_Priority</th>\n",
       "      <th>Discount</th>\n",
       "      <th>Unit_Price</th>\n",
       "      <th>Shipping_Cost</th>\n",
       "      <th>Customer_ID</th>\n",
       "      <th>Customer_Name</th>\n",
       "      <th>Ship_Mode</th>\n",
       "      <th>Customer_Segment</th>\n",
       "      <th>Product_Category</th>\n",
       "      <th>...</th>\n",
       "      <th>Province</th>\n",
       "      <th>City</th>\n",
       "      <th>Postal_Code</th>\n",
       "      <th>Order_Date</th>\n",
       "      <th>Ship_Date</th>\n",
       "      <th>Profit</th>\n",
       "      <th>Quantity</th>\n",
       "      <th>Sales</th>\n",
       "      <th>Order_ID</th>\n",
       "      <th>month</th>\n",
       "    </tr>\n",
       "  </thead>\n",
       "  <tbody>\n",
       "    <tr>\n",
       "      <th>0</th>\n",
       "      <td>20847</td>\n",
       "      <td>High</td>\n",
       "      <td>0.01</td>\n",
       "      <td>2.84</td>\n",
       "      <td>0.93</td>\n",
       "      <td>3</td>\n",
       "      <td>Bonnie Potter</td>\n",
       "      <td>Express Air</td>\n",
       "      <td>Corporate</td>\n",
       "      <td>Office Supplies</td>\n",
       "      <td>...</td>\n",
       "      <td>Washington</td>\n",
       "      <td>Anacortes</td>\n",
       "      <td>98221</td>\n",
       "      <td>2015-07-01</td>\n",
       "      <td>2015-08-01</td>\n",
       "      <td>4.5600</td>\n",
       "      <td>4</td>\n",
       "      <td>13.01</td>\n",
       "      <td>88522</td>\n",
       "      <td>7</td>\n",
       "    </tr>\n",
       "    <tr>\n",
       "      <th>1</th>\n",
       "      <td>20228</td>\n",
       "      <td>Not Specified</td>\n",
       "      <td>0.02</td>\n",
       "      <td>500.98</td>\n",
       "      <td>26.00</td>\n",
       "      <td>5</td>\n",
       "      <td>Ronnie Proctor</td>\n",
       "      <td>Delivery Truck</td>\n",
       "      <td>Home Office</td>\n",
       "      <td>Furniture</td>\n",
       "      <td>...</td>\n",
       "      <td>California</td>\n",
       "      <td>San Gabriel</td>\n",
       "      <td>91776</td>\n",
       "      <td>2015-06-13</td>\n",
       "      <td>2015-06-15</td>\n",
       "      <td>4390.3665</td>\n",
       "      <td>12</td>\n",
       "      <td>6362.85</td>\n",
       "      <td>90193</td>\n",
       "      <td>6</td>\n",
       "    </tr>\n",
       "    <tr>\n",
       "      <th>2</th>\n",
       "      <td>21776</td>\n",
       "      <td>Critical</td>\n",
       "      <td>0.06</td>\n",
       "      <td>9.48</td>\n",
       "      <td>7.29</td>\n",
       "      <td>11</td>\n",
       "      <td>Marcus Dunlap</td>\n",
       "      <td>Regular Air</td>\n",
       "      <td>Home Office</td>\n",
       "      <td>Furniture</td>\n",
       "      <td>...</td>\n",
       "      <td>New Jersey</td>\n",
       "      <td>Roselle</td>\n",
       "      <td>7203</td>\n",
       "      <td>2015-02-15</td>\n",
       "      <td>2015-02-17</td>\n",
       "      <td>-53.8096</td>\n",
       "      <td>22</td>\n",
       "      <td>211.15</td>\n",
       "      <td>90192</td>\n",
       "      <td>2</td>\n",
       "    </tr>\n",
       "    <tr>\n",
       "      <th>3</th>\n",
       "      <td>24844</td>\n",
       "      <td>Medium</td>\n",
       "      <td>0.09</td>\n",
       "      <td>78.69</td>\n",
       "      <td>19.99</td>\n",
       "      <td>14</td>\n",
       "      <td>Gwendolyn F Tyson</td>\n",
       "      <td>Regular Air</td>\n",
       "      <td>Small Business</td>\n",
       "      <td>Furniture</td>\n",
       "      <td>...</td>\n",
       "      <td>Minnesota</td>\n",
       "      <td>Prior Lake</td>\n",
       "      <td>55372</td>\n",
       "      <td>2015-12-05</td>\n",
       "      <td>2015-05-14</td>\n",
       "      <td>803.4705</td>\n",
       "      <td>16</td>\n",
       "      <td>1164.45</td>\n",
       "      <td>86838</td>\n",
       "      <td>12</td>\n",
       "    </tr>\n",
       "    <tr>\n",
       "      <th>4</th>\n",
       "      <td>24846</td>\n",
       "      <td>Medium</td>\n",
       "      <td>0.08</td>\n",
       "      <td>3.28</td>\n",
       "      <td>2.31</td>\n",
       "      <td>14</td>\n",
       "      <td>Gwendolyn F Tyson</td>\n",
       "      <td>Regular Air</td>\n",
       "      <td>Small Business</td>\n",
       "      <td>Office Supplies</td>\n",
       "      <td>...</td>\n",
       "      <td>Minnesota</td>\n",
       "      <td>Prior Lake</td>\n",
       "      <td>55372</td>\n",
       "      <td>2015-12-05</td>\n",
       "      <td>2015-05-13</td>\n",
       "      <td>-24.0300</td>\n",
       "      <td>7</td>\n",
       "      <td>22.23</td>\n",
       "      <td>86838</td>\n",
       "      <td>12</td>\n",
       "    </tr>\n",
       "  </tbody>\n",
       "</table>\n",
       "<p>5 rows × 26 columns</p>\n",
       "</div>"
      ],
      "text/plain": [
       "   Row_ID Order_Priority  Discount  Unit_Price  Shipping_Cost  Customer_ID  \\\n",
       "0   20847           High      0.01        2.84           0.93            3   \n",
       "1   20228  Not Specified      0.02      500.98          26.00            5   \n",
       "2   21776       Critical      0.06        9.48           7.29           11   \n",
       "3   24844         Medium      0.09       78.69          19.99           14   \n",
       "4   24846         Medium      0.08        3.28           2.31           14   \n",
       "\n",
       "       Customer_Name       Ship_Mode Customer_Segment Product_Category  ...  \\\n",
       "0      Bonnie Potter     Express Air        Corporate  Office Supplies  ...   \n",
       "1     Ronnie Proctor  Delivery Truck      Home Office        Furniture  ...   \n",
       "2      Marcus Dunlap     Regular Air      Home Office        Furniture  ...   \n",
       "3  Gwendolyn F Tyson     Regular Air   Small Business        Furniture  ...   \n",
       "4  Gwendolyn F Tyson     Regular Air   Small Business  Office Supplies  ...   \n",
       "\n",
       "     Province         City Postal_Code  Order_Date  Ship_Date     Profit  \\\n",
       "0  Washington    Anacortes       98221  2015-07-01 2015-08-01     4.5600   \n",
       "1  California  San Gabriel       91776  2015-06-13 2015-06-15  4390.3665   \n",
       "2  New Jersey      Roselle        7203  2015-02-15 2015-02-17   -53.8096   \n",
       "3   Minnesota   Prior Lake       55372  2015-12-05 2015-05-14   803.4705   \n",
       "4   Minnesota   Prior Lake       55372  2015-12-05 2015-05-13   -24.0300   \n",
       "\n",
       "  Quantity    Sales  Order_ID month  \n",
       "0        4    13.01     88522     7  \n",
       "1       12  6362.85     90193     6  \n",
       "2       22   211.15     90192     2  \n",
       "3       16  1164.45     86838    12  \n",
       "4        7    22.23     86838    12  \n",
       "\n",
       "[5 rows x 26 columns]"
      ]
     },
     "execution_count": 50,
     "metadata": {},
     "output_type": "execute_result"
    }
   ],
   "source": [
    "df.head()"
   ]
  },
  {
   "cell_type": "code",
   "execution_count": 52,
   "id": "642c20bc",
   "metadata": {},
   "outputs": [
    {
     "data": {
      "text/plain": [
       "0       -31\n",
       "1        -2\n",
       "2        -2\n",
       "3       205\n",
       "4       206\n",
       "       ... \n",
       "1947    -30\n",
       "1948    -30\n",
       "1949     -2\n",
       "1950      0\n",
       "1951    -92\n",
       "Name: Difference, Length: 1952, dtype: int64"
      ]
     },
     "execution_count": 52,
     "metadata": {},
     "output_type": "execute_result"
    }
   ],
   "source": [
    "df[\"Difference\"]=(df[\"Order_Date\"]-df[\"Ship_Date\"]).dt.days\n",
    "df[\"Difference\"]"
   ]
  },
  {
   "cell_type": "code",
   "execution_count": 53,
   "id": "6b13377b",
   "metadata": {},
   "outputs": [
    {
     "data": {
      "text/html": [
       "<div>\n",
       "<style scoped>\n",
       "    .dataframe tbody tr th:only-of-type {\n",
       "        vertical-align: middle;\n",
       "    }\n",
       "\n",
       "    .dataframe tbody tr th {\n",
       "        vertical-align: top;\n",
       "    }\n",
       "\n",
       "    .dataframe thead th {\n",
       "        text-align: right;\n",
       "    }\n",
       "</style>\n",
       "<table border=\"1\" class=\"dataframe\">\n",
       "  <thead>\n",
       "    <tr style=\"text-align: right;\">\n",
       "      <th></th>\n",
       "      <th>Row_ID</th>\n",
       "      <th>Order_Priority</th>\n",
       "      <th>Discount</th>\n",
       "      <th>Unit_Price</th>\n",
       "      <th>Shipping_Cost</th>\n",
       "      <th>Customer_ID</th>\n",
       "      <th>Customer_Name</th>\n",
       "      <th>Ship_Mode</th>\n",
       "      <th>Customer_Segment</th>\n",
       "      <th>Product_Category</th>\n",
       "      <th>...</th>\n",
       "      <th>City</th>\n",
       "      <th>Postal_Code</th>\n",
       "      <th>Order_Date</th>\n",
       "      <th>Ship_Date</th>\n",
       "      <th>Profit</th>\n",
       "      <th>Quantity</th>\n",
       "      <th>Sales</th>\n",
       "      <th>Order_ID</th>\n",
       "      <th>month</th>\n",
       "      <th>Difference</th>\n",
       "    </tr>\n",
       "  </thead>\n",
       "  <tbody>\n",
       "    <tr>\n",
       "      <th>0</th>\n",
       "      <td>20847</td>\n",
       "      <td>High</td>\n",
       "      <td>0.01</td>\n",
       "      <td>2.84</td>\n",
       "      <td>0.93</td>\n",
       "      <td>3</td>\n",
       "      <td>Bonnie Potter</td>\n",
       "      <td>Express Air</td>\n",
       "      <td>Corporate</td>\n",
       "      <td>Office Supplies</td>\n",
       "      <td>...</td>\n",
       "      <td>Anacortes</td>\n",
       "      <td>98221</td>\n",
       "      <td>2015-07-01</td>\n",
       "      <td>2015-08-01</td>\n",
       "      <td>4.5600</td>\n",
       "      <td>4</td>\n",
       "      <td>13.01</td>\n",
       "      <td>88522</td>\n",
       "      <td>7</td>\n",
       "      <td>-31</td>\n",
       "    </tr>\n",
       "    <tr>\n",
       "      <th>1</th>\n",
       "      <td>20228</td>\n",
       "      <td>Not Specified</td>\n",
       "      <td>0.02</td>\n",
       "      <td>500.98</td>\n",
       "      <td>26.00</td>\n",
       "      <td>5</td>\n",
       "      <td>Ronnie Proctor</td>\n",
       "      <td>Delivery Truck</td>\n",
       "      <td>Home Office</td>\n",
       "      <td>Furniture</td>\n",
       "      <td>...</td>\n",
       "      <td>San Gabriel</td>\n",
       "      <td>91776</td>\n",
       "      <td>2015-06-13</td>\n",
       "      <td>2015-06-15</td>\n",
       "      <td>4390.3665</td>\n",
       "      <td>12</td>\n",
       "      <td>6362.85</td>\n",
       "      <td>90193</td>\n",
       "      <td>6</td>\n",
       "      <td>-2</td>\n",
       "    </tr>\n",
       "    <tr>\n",
       "      <th>2</th>\n",
       "      <td>21776</td>\n",
       "      <td>Critical</td>\n",
       "      <td>0.06</td>\n",
       "      <td>9.48</td>\n",
       "      <td>7.29</td>\n",
       "      <td>11</td>\n",
       "      <td>Marcus Dunlap</td>\n",
       "      <td>Regular Air</td>\n",
       "      <td>Home Office</td>\n",
       "      <td>Furniture</td>\n",
       "      <td>...</td>\n",
       "      <td>Roselle</td>\n",
       "      <td>7203</td>\n",
       "      <td>2015-02-15</td>\n",
       "      <td>2015-02-17</td>\n",
       "      <td>-53.8096</td>\n",
       "      <td>22</td>\n",
       "      <td>211.15</td>\n",
       "      <td>90192</td>\n",
       "      <td>2</td>\n",
       "      <td>-2</td>\n",
       "    </tr>\n",
       "    <tr>\n",
       "      <th>3</th>\n",
       "      <td>24844</td>\n",
       "      <td>Medium</td>\n",
       "      <td>0.09</td>\n",
       "      <td>78.69</td>\n",
       "      <td>19.99</td>\n",
       "      <td>14</td>\n",
       "      <td>Gwendolyn F Tyson</td>\n",
       "      <td>Regular Air</td>\n",
       "      <td>Small Business</td>\n",
       "      <td>Furniture</td>\n",
       "      <td>...</td>\n",
       "      <td>Prior Lake</td>\n",
       "      <td>55372</td>\n",
       "      <td>2015-12-05</td>\n",
       "      <td>2015-05-14</td>\n",
       "      <td>803.4705</td>\n",
       "      <td>16</td>\n",
       "      <td>1164.45</td>\n",
       "      <td>86838</td>\n",
       "      <td>12</td>\n",
       "      <td>205</td>\n",
       "    </tr>\n",
       "    <tr>\n",
       "      <th>4</th>\n",
       "      <td>24846</td>\n",
       "      <td>Medium</td>\n",
       "      <td>0.08</td>\n",
       "      <td>3.28</td>\n",
       "      <td>2.31</td>\n",
       "      <td>14</td>\n",
       "      <td>Gwendolyn F Tyson</td>\n",
       "      <td>Regular Air</td>\n",
       "      <td>Small Business</td>\n",
       "      <td>Office Supplies</td>\n",
       "      <td>...</td>\n",
       "      <td>Prior Lake</td>\n",
       "      <td>55372</td>\n",
       "      <td>2015-12-05</td>\n",
       "      <td>2015-05-13</td>\n",
       "      <td>-24.0300</td>\n",
       "      <td>7</td>\n",
       "      <td>22.23</td>\n",
       "      <td>86838</td>\n",
       "      <td>12</td>\n",
       "      <td>206</td>\n",
       "    </tr>\n",
       "  </tbody>\n",
       "</table>\n",
       "<p>5 rows × 27 columns</p>\n",
       "</div>"
      ],
      "text/plain": [
       "   Row_ID Order_Priority  Discount  Unit_Price  Shipping_Cost  Customer_ID  \\\n",
       "0   20847           High      0.01        2.84           0.93            3   \n",
       "1   20228  Not Specified      0.02      500.98          26.00            5   \n",
       "2   21776       Critical      0.06        9.48           7.29           11   \n",
       "3   24844         Medium      0.09       78.69          19.99           14   \n",
       "4   24846         Medium      0.08        3.28           2.31           14   \n",
       "\n",
       "       Customer_Name       Ship_Mode Customer_Segment Product_Category  ...  \\\n",
       "0      Bonnie Potter     Express Air        Corporate  Office Supplies  ...   \n",
       "1     Ronnie Proctor  Delivery Truck      Home Office        Furniture  ...   \n",
       "2      Marcus Dunlap     Regular Air      Home Office        Furniture  ...   \n",
       "3  Gwendolyn F Tyson     Regular Air   Small Business        Furniture  ...   \n",
       "4  Gwendolyn F Tyson     Regular Air   Small Business  Office Supplies  ...   \n",
       "\n",
       "          City Postal_Code Order_Date  Ship_Date     Profit Quantity    Sales  \\\n",
       "0    Anacortes       98221 2015-07-01 2015-08-01     4.5600        4    13.01   \n",
       "1  San Gabriel       91776 2015-06-13 2015-06-15  4390.3665       12  6362.85   \n",
       "2      Roselle        7203 2015-02-15 2015-02-17   -53.8096       22   211.15   \n",
       "3   Prior Lake       55372 2015-12-05 2015-05-14   803.4705       16  1164.45   \n",
       "4   Prior Lake       55372 2015-12-05 2015-05-13   -24.0300        7    22.23   \n",
       "\n",
       "  Order_ID  month Difference  \n",
       "0    88522      7        -31  \n",
       "1    90193      6         -2  \n",
       "2    90192      2         -2  \n",
       "3    86838     12        205  \n",
       "4    86838     12        206  \n",
       "\n",
       "[5 rows x 27 columns]"
      ]
     },
     "execution_count": 53,
     "metadata": {},
     "output_type": "execute_result"
    }
   ],
   "source": [
    "df.head()"
   ]
  },
  {
   "cell_type": "code",
   "execution_count": null,
   "id": "8952cd34",
   "metadata": {},
   "outputs": [],
   "source": []
  }
 ],
 "metadata": {
  "kernelspec": {
   "display_name": "Python 3 (ipykernel)",
   "language": "python",
   "name": "python3"
  },
  "language_info": {
   "codemirror_mode": {
    "name": "ipython",
    "version": 3
   },
   "file_extension": ".py",
   "mimetype": "text/x-python",
   "name": "python",
   "nbconvert_exporter": "python",
   "pygments_lexer": "ipython3",
   "version": "3.11.0"
  }
 },
 "nbformat": 4,
 "nbformat_minor": 5
}
